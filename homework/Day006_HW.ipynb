{
 "cells": [
  {
   "cell_type": "markdown",
   "metadata": {},
   "source": [
    "# API 資料串接 - 以 知乎 API 實作範例\n",
    "\n",
    "\n",
    "\n",
    "* 了解知乎 API 使用方式與回傳內容\n",
    "* 撰寫程式存取 API 且添加標頭\n",
    "\n",
    "\n"
   ]
  },
  {
   "cell_type": "markdown",
   "metadata": {},
   "source": [
    "## 作業目標\n",
    "\n",
    "* 根據範例提供的 API ，完成以下問題：\n",
    "\n",
    "    1. 取出知乎問題發問時間\n",
    "    2. 取出第一筆與最後一筆回答的時間\n"
   ]
  },
  {
   "cell_type": "markdown",
   "metadata": {},
   "source": [
    "### 1. 取出知乎問題發問時間"
   ]
  },
  {
   "cell_type": "code",
   "execution_count": 51,
   "metadata": {},
   "outputs": [
    {
     "name": "stdout",
     "output_type": "stream",
     "text": [
      "你们都是怎么学 Python 的？\n",
      "1582533957\n",
      "你们都是怎么学 Python 的？\n",
      "1582533957\n",
      "你们都是怎么学 Python 的？\n",
      "1582533957\n",
      "你们都是怎么学 Python 的？\n",
      "1582533957\n",
      "你们都是怎么学 Python 的？\n",
      "1582533957\n"
     ]
    }
   ],
   "source": [
    "# 1. 取出知乎問題發問時間\n",
    "\n",
    "import requests, json\n",
    "headers = {\"user-agent\":\"my-app/0.0.1\"}\n",
    "r = requests.get(\"https://www.zhihu.com/api/v4/questions/55493026/answers\",headers=headers)\n",
    "response = r.text\n",
    "datas = json.loads(response)\n",
    "#print(datas)\n",
    "\n",
    "for d in datas[\"data\"]:\n",
    "    #print(d)\n",
    "    #發問問題/發問時間\n",
    "    print(d[\"question\"][\"title\"])\n",
    "    print(d[\"question\"][\"updated_time\"])"
   ]
  },
  {
   "cell_type": "markdown",
   "metadata": {},
   "source": [
    "### 2. 取出第一筆與最後一筆回答的時間"
   ]
  },
  {
   "cell_type": "code",
   "execution_count": 52,
   "metadata": {},
   "outputs": [
    {
     "name": "stdout",
     "output_type": "stream",
     "text": [
      "第一筆回答時間： 1554085028\n",
      "最後一筆回答時間： 1604942938\n"
     ]
    }
   ],
   "source": [
    "# 2. 取出第一筆與最後一筆回答的時間\n",
    "\n",
    "import requests, json\n",
    "headers = {\"user-agent\":\"my-app/0.0.1\"}\n",
    "r = requests.get(\"https://www.zhihu.com/api/v4/questions/55493026/answers\",headers=headers)\n",
    "response = r.text\n",
    "datas = json.loads(response)\n",
    "    \n",
    "ans_time =[]    \n",
    "for d in datas[\"data\"]:\n",
    "    #print(d)\n",
    "    #取出第一筆與最後一筆回答的時間\n",
    "    ans = d[\"created_time\"]\n",
    "    ans_time.append(ans)\n",
    "print(\"第一筆回答時間：\",ans_time[0])\n",
    "print(\"最後一筆回答時間：\",ans_time[-1])"
   ]
  },
  {
   "cell_type": "code",
   "execution_count": null,
   "metadata": {},
   "outputs": [],
   "source": []
  },
  {
   "cell_type": "code",
   "execution_count": null,
   "metadata": {
    "scrolled": false
   },
   "outputs": [],
   "source": []
  },
  {
   "cell_type": "code",
   "execution_count": null,
   "metadata": {},
   "outputs": [],
   "source": []
  }
 ],
 "metadata": {
  "kernelspec": {
   "display_name": "Python 3",
   "language": "python",
   "name": "python3"
  },
  "language_info": {
   "codemirror_mode": {
    "name": "ipython",
    "version": 3
   },
   "file_extension": ".py",
   "mimetype": "text/x-python",
   "name": "python",
   "nbconvert_exporter": "python",
   "pygments_lexer": "ipython3",
   "version": "3.8.5"
  }
 },
 "nbformat": 4,
 "nbformat_minor": 2
}
