{
 "cells": [
  {
   "cell_type": "markdown",
   "metadata": {},
   "source": [
    "# 作業\n",
    "\n",
    "以正確的副檔名下載網頁中的圖片\n",
    "範例網頁:https://www.ptt.cc/bbs/Beauty/M.1556291059.A.75A.html\n",
    "\n",
    "Note：因為 PTT 會詢問「是否滿 18 歲」，這邊可以用 cookies 繞過\n",
    "\n",
    "`requests.get(URL, cookies={'over18': '1'}`\n"
   ]
  },
  {
   "cell_type": "code",
   "execution_count": 38,
   "metadata": {},
   "outputs": [],
   "source": [
    "import requests\n",
    "import os\n",
    "\n",
    "from bs4 import BeautifulSoup\n",
    "from PIL import Image\n",
    "\n",
    "url = \"https://www.ptt.cc/bbs/Beauty/M.1556291059.A.75A.html\"\n",
    "r = requests.get(url,cookies={\"over18\":\"1\"})\n",
    "response = r.text\n",
    "soup = BeautifulSoup(response)\n",
    "\n",
    "#新增資料夾\n",
    "output_dir = \"new_file2\"\n",
    "if not os.path.exists(output_dir):\n",
    "    os.mkdir(output_dir)\n",
    "\n",
    "#尋找網址標籤\n",
    "image_tags = soup.find(id=\"main-content\").findChildren(\"a\",recursive=False)\n",
    "for image_tag in image_tags:\n",
    "    if \"imgur\" not in image_tag[\"href\"]:\n",
    "        continue\n",
    "    img_id = image_tag[\"href\"].split(\"/\")[-1] #Cgb5oo1\n",
    "    img_url = \"https://imgur.com/{}.jpg\".format(img_id)\n",
    "    with requests.get(img_url,stream=True) as r:\n",
    "        r.raise_for_status()\n",
    "        img = Image.open(r.raw)\n",
    "        img_savename = \"{outdir}/{img_id}.{img_ext}\".format(outdir=output_dir,img_id=img_id,img_ext=img.format.lower())\n",
    "        img.save(img_savename)"
   ]
  },
  {
   "cell_type": "code",
   "execution_count": null,
   "metadata": {},
   "outputs": [],
   "source": [
    "# 決定要儲存的資料夾\n",
    "output_dir = 'downloads'\n",
    "\n",
    "# 假如資料夾不存在就新增一個資料夾\n",
    "if not os.path.exists(output_dir):\n",
    "    os.makedirs(output_dir)\n",
    "\n",
    "# 定位所有圖片的 tag\n",
    "image_tags = \n",
    "for img_tag in image_tags:\n",
    "    # 取得所有圖片在第三方服務的 id\n",
    "\n",
    "    # 組合圖片而非網站的網址\n",
    "\n",
    "    # 對圖片送出請求"
   ]
  },
  {
   "cell_type": "code",
   "execution_count": 28,
   "metadata": {},
   "outputs": [],
   "source": [
    "#例題練習\n",
    "import requests, os\n",
    "from bs4 import BeautifulSoup\n",
    "from PIL import Image \n",
    "\n",
    "url = \"https://www.ptt.cc/bbs/Beauty/M.1574854555.A.E5C.html\"\n",
    "r = requests.get(url,cookies = {\"over18\":\"1\"}) #跳過\"是否滿18\"\n",
    "response = r.text\n",
    "#print(response)\n",
    "soup = BeautifulSoup(response)\n",
    "#print(soup)\n",
    "\n",
    "#新增一個資料夾(在download下)\n",
    "output_dir = \"new_file\"\n",
    "if not os.path.exists(output_dir):\n",
    "    os.mkdir(output_dir)\n",
    "\n",
    "image_tags = soup.find(id=\"main-content\").findChildren(\"a\",recursive=False) #只會查找文檔的一級標籤\n",
    "for image_tag in image_tags:\n",
    "    if \"imgur\" not in image_tag[\"href\"]:\n",
    "        continue\n",
    "    img_id = image_tag[\"href\"].split(\"/\")[-1] #例:Yvqa9MC.jpg\n",
    "    img_url = 'https://i.imgur.com/{}.jpg'.format(img_id) #例:https://i.imgur.com/Yvqa9MC.jpg\n",
    "    #print(img_url)\n",
    "    with requests.get(img_url,stream=True) as r:\n",
    "        r.raise_for_status() #與異常打交道，判斷網路連接狀態\n",
    "        img = Image.open(r.raw) #原始圖檔\n",
    "        img_savename = '{outdir}/{img_id}.{img_ext}'.format(outdir=output_dir, img_id=img_id, img_ext=img.format.lower())        \n",
    "        #print(img_savename) #new_file/Yvqa9MC.jpg.jpeg\n",
    "        img.save(img_savename)\n",
    "\n"
   ]
  },
  {
   "cell_type": "code",
   "execution_count": null,
   "metadata": {},
   "outputs": [],
   "source": []
  }
 ],
 "metadata": {
  "kernelspec": {
   "display_name": "Python 3",
   "language": "python",
   "name": "python3"
  },
  "language_info": {
   "codemirror_mode": {
    "name": "ipython",
    "version": 3
   },
   "file_extension": ".py",
   "mimetype": "text/x-python",
   "name": "python",
   "nbconvert_exporter": "python",
   "pygments_lexer": "ipython3",
   "version": "3.8.5"
  }
 },
 "nbformat": 4,
 "nbformat_minor": 2
}
