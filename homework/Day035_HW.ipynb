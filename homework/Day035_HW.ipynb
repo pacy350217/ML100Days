{
 "cells": [
  {
   "cell_type": "markdown",
   "metadata": {},
   "source": [
    "# 加速：多線程爬蟲\n",
    "\n",
    "\n",
    "\n",
    "* 了解知乎 API 使用方式與回傳內容\n",
    "* 撰寫程式存取 API 且添加標頭"
   ]
  },
  {
   "cell_type": "markdown",
   "metadata": {},
   "source": [
    "## 作業目標\n",
    "\n",
    "* 找一個之前實作過的爬蟲改用多線程改寫，比較前後時間的差異。"
   ]
  },
  {
   "cell_type": "code",
   "execution_count": 13,
   "metadata": {},
   "outputs": [
    {
     "name": "stdout",
     "output_type": "stream",
     "text": [
      "多線程： 0.0003781318664550781\n",
      "正常爬蟲： 1.4797718524932861\n"
     ]
    }
   ],
   "source": [
    "import requests \n",
    "import _thread\n",
    "import time \n",
    "\n",
    "urls = ['https://www.ettoday.net', 'https://www.zhihu.com/signin?next=%2F']\n",
    "\n",
    "startTime = time.time()\n",
    "for url in urls:\n",
    "    _thread.start_new_thread(requests.get,(url,))\n",
    "\n",
    "finishTime = time.time()\n",
    "print(\"多線程：\",finishTime-startTime)\n",
    "\n",
    "urls = ['https://www.ettoday.net', 'https://www.zhihu.com/signin?next=%2F']\n",
    "startTime = time.time()\n",
    "for url in urls:\n",
    "    requests.get(url)\n",
    "    \n",
    "finishTime = time.time()\n",
    "print(\"正常爬蟲：\",finishTime-startTime)\n",
    "\n",
    "\n"
   ]
  },
  {
   "cell_type": "code",
   "execution_count": 5,
   "metadata": {},
   "outputs": [
    {
     "data": {
      "text/plain": [
       "123145578360832"
      ]
     },
     "execution_count": 5,
     "metadata": {},
     "output_type": "execute_result"
    },
    {
     "name": "stdout",
     "output_type": "stream",
     "text": [
      "Thread_1 => 0\n",
      "Thread_1 => 2\n",
      "Thread_2 => 1\n",
      "Thread_1 => 4\n",
      "Thread_2 => 3\n"
     ]
    }
   ],
   "source": [
    "#練習\n",
    "import _thread\n",
    "import time \n",
    "\n",
    "def print_time(threadName,data,delay):\n",
    "    for d in data:\n",
    "        time.sleep(delay)\n",
    "        print(threadName,\"=>\",d)\n",
    "        \n",
    "_thread.start_new_thread(print_time,(\"Thread_1\",range(0,5,2),2,))\n",
    "_thread.start_new_thread(print_time,(\"Thread_2\",range(1,5,2),5,))"
   ]
  },
  {
   "cell_type": "code",
   "execution_count": 10,
   "metadata": {},
   "outputs": [
    {
     "name": "stdout",
     "output_type": "stream",
     "text": [
      "10.283488035202026\n"
     ]
    }
   ],
   "source": [
    "import requests \n",
    "import time \n",
    "\n",
    "urls = ['http://python.org', 'http://python.org', 'http://python.org',\n",
    "        'http://python.org', 'http://python.org']\n",
    "\n",
    "startTime = time.time()\n",
    "\n",
    "for url in urls:\n",
    "    requests.get(url)\n",
    "\n",
    "finishTime = time.time()\n",
    "\n",
    "print(finishTime-startTime)"
   ]
  },
  {
   "cell_type": "code",
   "execution_count": 11,
   "metadata": {},
   "outputs": [
    {
     "name": "stdout",
     "output_type": "stream",
     "text": [
      "0.0003631114959716797\n"
     ]
    }
   ],
   "source": [
    "import requests \n",
    "import _thread\n",
    "import time \n",
    "\n",
    "urls = ['http://python.org', 'http://python.org', 'http://python.org',\n",
    "        'http://python.org', 'http://python.org']\n",
    "\n",
    "startTime = time.time()\n",
    "for url in urls:\n",
    "    _thread.start_new_thread(requests.get,(url,))\n",
    "\n",
    "finishTime = time.time()\n",
    "print(finishTime-startTime)"
   ]
  },
  {
   "cell_type": "code",
   "execution_count": null,
   "metadata": {},
   "outputs": [],
   "source": []
  }
 ],
 "metadata": {
  "colab": {
   "name": "homework.ipynb",
   "provenance": []
  },
  "kernelspec": {
   "display_name": "Python 3",
   "language": "python",
   "name": "python3"
  },
  "language_info": {
   "codemirror_mode": {
    "name": "ipython",
    "version": 3
   },
   "file_extension": ".py",
   "mimetype": "text/x-python",
   "name": "python",
   "nbconvert_exporter": "python",
   "pygments_lexer": "ipython3",
   "version": "3.8.5"
  }
 },
 "nbformat": 4,
 "nbformat_minor": 1
}
