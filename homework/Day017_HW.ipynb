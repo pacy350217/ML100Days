{
 "cells": [
  {
   "cell_type": "markdown",
   "metadata": {},
   "source": [
    "# HTTP 動態網頁架構說明\n",
    "\n",
    "\n",
    "* 了解動態網頁的資料爬蟲策略\n",
    "* 知道非同步網頁載入機制（Ajax）\n",
    "* 學習兩種對應動態網頁爬蟲的的策略\n"
   ]
  },
  {
   "cell_type": "markdown",
   "metadata": {},
   "source": [
    "## 作業目標\n",
    "\n",
    "回答以下問題：\n",
    "\n",
    "1. 動態網頁跟靜態網頁的差別是什麼？原本靜態網頁的做法會產生什麼問題或是缺點？\n",
    "2. 還記得我們在 ETTODAY 靜態爬蟲實作練習中，有請大家完成一個題目「取出今天所有的發文」，但仔細看其實並沒有真的把當天所有的新聞都抓回來， 試著回答看看原因是什麼？及該如何檢查？\n"
   ]
  },
  {
   "cell_type": "markdown",
   "metadata": {},
   "source": [
    "### 1. 動態網頁跟靜態網頁的差別是什麼？原本靜態網頁的做法會產生什麼問題或是缺點？"
   ]
  },
  {
   "cell_type": "code",
   "execution_count": 1,
   "metadata": {},
   "outputs": [
    {
     "data": {
      "text/plain": [
       "'\\nYour Input\\n'"
      ]
     },
     "execution_count": 1,
     "metadata": {},
     "output_type": "execute_result"
    }
   ],
   "source": [
    "靜態網頁是透過每一次使用者請求，後端會產生一次網頁回傳，所以請求與回傳是一對一的;\n",
    "動態網頁的話，是透過 Ajax 的技術，來完成非同步的資料傳輸。\n",
    "靜態網頁無法取得即時資料、一次傳回整個網頁，較消耗流量。"
   ]
  },
  {
   "cell_type": "markdown",
   "metadata": {},
   "source": [
    "### 2. 還記得我們在 ETTODAY 靜態爬蟲實作練習中，有請大家完成一個題目「取出今天所有的發文」，但仔細看其實並沒有真的把當天所有的新聞都抓回來， 試著回答看看原因是什麼？及該如何檢查？"
   ]
  },
  {
   "cell_type": "code",
   "execution_count": 125,
   "metadata": {
    "scrolled": true
   },
   "outputs": [
    {
     "name": "stdout",
     "output_type": "stream",
     "text": [
      "動態新聞已更新\n"
     ]
    },
    {
     "data": {
      "text/plain": [
       "'\\ntotal_news_list = []\\nfor d1 in soup.find(class_ = \"part_menu_2\").find_all(\"a\",href=re.compile(\".*\")):\\n    #print(d1)\\n    url = \"https://www.ettoday.net/\"+d1[\"href\"]\\n    r1 = requests.get(url)\\n    html = BeautifulSoup(r1.text,\"html5lib\")\\n    \\n    for d2 in html.find(name=\"div\",class_=\"part_list_2\").find_all(\"h3\"):\\n        #if d2.find(class_=\"date\").text == re.compile(\"2020/12/23\\\\s\\\\d\\\\d\\\\S\\\\d\\\\d\"):\\n        news2 = d2.find(class_=\"date\").text, d2.find_all(\"a\")[-1].text\\n\\n        if news2[0] == re.compile(\"2020\\\\/12\\\\/23\\\\s\\\\d\\\\d\\\\:\\\\d\\\\d\"):\\n            total_news_list.append(news2)\\n\\nprint(\"新聞總覽、各分類篇數:\",len(total_news_list))\\nprint(total_news_list) \\n'"
      ]
     },
     "execution_count": 125,
     "metadata": {},
     "output_type": "execute_result"
    }
   ],
   "source": [
    "import requests, re\n",
    "from bs4 import BeautifulSoup \n",
    "\n",
    "url = \"https://www.ettoday.net/news/news-list.htm\"\n",
    "r = requests.get(url)\n",
    "\n",
    "soup = BeautifulSoup(r.text,\"html5lib\")\n",
    "\n",
    "news_list = []\n",
    "for d in soup.find(name = \"div\", class_=\"part_list_2\").find_all(\"h3\"):\n",
    "    news = d.find(class_= \"date\").text, d.find_all(\"a\")[-1].text\n",
    "    news_list.append(news)\n",
    "\n",
    "#print(news_list)\n",
    "#檢查機制\n",
    "if news_list[0][0] != '2020/12/23 23:02':\n",
    "    print(\"動態新聞已更新\")\n",
    "\n",
    "\n",
    "\"\"\"\n",
    "total_news_list = []\n",
    "for d1 in soup.find(class_ = \"part_menu_2\").find_all(\"a\",href=re.compile(\".*\")):\n",
    "    #print(d1)\n",
    "    url = \"https://www.ettoday.net/\"+d1[\"href\"]\n",
    "    r1 = requests.get(url)\n",
    "    html = BeautifulSoup(r1.text,\"html5lib\")\n",
    "    \n",
    "    for d2 in html.find(name=\"div\",class_=\"part_list_2\").find_all(\"h3\"):\n",
    "        #if d2.find(class_=\"date\").text == re.compile(\"2020/12/23\\s\\d\\d\\S\\d\\d\"):\n",
    "        news2 = d2.find(class_=\"date\").text, d2.find_all(\"a\")[-1].text\n",
    "\n",
    "        if news2[0] == re.compile(\"2020\\/12\\/23\\s\\d\\d\\:\\d\\d\"):\n",
    "            total_news_list.append(news2)\n",
    "\n",
    "print(\"新聞總覽、各分類篇數:\",len(total_news_list))\n",
    "print(total_news_list) \n",
    "\"\"\"\n"
   ]
  },
  {
   "cell_type": "code",
   "execution_count": null,
   "metadata": {},
   "outputs": [],
   "source": [
    "\n"
   ]
  },
  {
   "cell_type": "code",
   "execution_count": null,
   "metadata": {},
   "outputs": [],
   "source": []
  }
 ],
 "metadata": {
  "kernelspec": {
   "display_name": "Python 3",
   "language": "python",
   "name": "python3"
  },
  "language_info": {
   "codemirror_mode": {
    "name": "ipython",
    "version": 3
   },
   "file_extension": ".py",
   "mimetype": "text/x-python",
   "name": "python",
   "nbconvert_exporter": "python",
   "pygments_lexer": "ipython3",
   "version": "3.8.5"
  }
 },
 "nbformat": 4,
 "nbformat_minor": 2
}
