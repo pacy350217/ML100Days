{
 "cells": [
  {
   "cell_type": "markdown",
   "metadata": {},
   "source": [
    "# 動態網頁爬蟲 - 使用 Selenium\n",
    "\n",
    "* 了解 Selenium 用於動態網頁爬蟲的原理\n",
    "* 能夠使用 Selenium 撰寫動態網頁爬蟲"
   ]
  },
  {
   "cell_type": "markdown",
   "metadata": {},
   "source": [
    "## 作業目標\n",
    "\n",
    "* 1. 根據範例使用 selenuim 取出 Hahow 網站中所有課程的資料，並用一個適合的資料結構儲存（Hint: 將所有資料存在一個變數當中取出）\n",
    "* 2. 剛剛的做法只能取出第一頁，試著取出所有頁面的資料。\n",
    "\n"
   ]
  },
  {
   "cell_type": "markdown",
   "metadata": {},
   "source": [
    "### 1. 根據範例使用 selenuim 取出 Hahow 網站中所有課程的資料，並用一個適合的資料結構儲存（Hint: 將所有資料存在一個變數當中取出）"
   ]
  },
  {
   "cell_type": "code",
   "execution_count": 28,
   "metadata": {},
   "outputs": [],
   "source": [
    "from selenium import webdriver\n",
    "from selenium.webdriver.support.ui import Select\n",
    "from bs4 import BeautifulSoup\n",
    "\n",
    "browser = webdriver.Chrome(executable_path='chromedriver')\n",
    "browser.get(\"https://hahow.in/courses\")"
   ]
  },
  {
   "cell_type": "code",
   "execution_count": 29,
   "metadata": {},
   "outputs": [],
   "source": [
    "# 取得資料（等瀏覽器資料出現後才執行）\n",
    "html_source = browser.page_source\n",
    "html_source\n",
    "\n",
    "# 取得資料\n",
    "html_source = browser.page_source\n",
    "soup = BeautifulSoup(html_source, 'html.parser')\n"
   ]
  },
  {
   "cell_type": "code",
   "execution_count": 30,
   "metadata": {},
   "outputs": [
    {
     "name": "stdout",
     "output_type": "stream",
     "text": [
      "['顧客分類大師：Python x RFM 會員經營新觀點', '翻轉文字：給孩子好玩的創意寫作課！', '大人的蠟筆畫：活用油畫知識，寫實生活微光', '機器學習攻略：實戰心法到求職技巧', '法式甜點在地魂製作攻略－日日在家菓實日', '林長揚職場簡報術：一次搞定所有工作簡報！', '概念式時尚插畫｜我的小小時裝週', '羅寶鴻的安定教養課：12 個對話練習與心法', '七日減醣計畫「一週持續執行！」邊吃邊享瘦', '閱讀攝影的眼神 - 啟動你的影像理解力', '手機 App 開發入門：App Inventor 2 實作', '全民防疫通識課：陳建仁副總統來開講', '省錢攝影術：零基礎拍好美食＆商品！', 'Linux 我來教: CentOS/ RHEL 8 新世代雲端', '口譯員浩爾的打獵式聆聽＆資訊處理術', '資料變決策！從零上手 Tableau 大數據視覺化', '互動藝術程式創作入門 Creative Coding ', '人生管理學：把自己當成公司經營', '薩克斯風 - 13 堂基本功吹出專輯的美聲', '用實際案例學設計-美編的 InDesign 排版課', '動盪時代的資產配置：王伯達人生財務規劃學', '手繪轉電繪，我選 Procreate！', '氣球達人不藏私！宋俊霖的塞球雕塑造型課', '0-2 歲寶寶父母必修課 - 專業治療師開課囉！', '顧客分類大師：Python x RFM 會員經營新觀點', '翻轉文字：給孩子好玩的創意寫作課！', '大人的蠟筆畫：活用油畫知識，寫實生活微光', '機器學習攻略：實戰心法到求職技巧', '法式甜點在地魂製作攻略－日日在家菓實日', '林長揚職場簡報術：一次搞定所有工作簡報！', '概念式時尚插畫｜我的小小時裝週', '羅寶鴻的安定教養課：12 個對話練習與心法', '七日減醣計畫「一週持續執行！」邊吃邊享瘦', '閱讀攝影的眼神 - 啟動你的影像理解力', '手機 App 開發入門：App Inventor 2 實作', '全民防疫通識課：陳建仁副總統來開講', '省錢攝影術：零基礎拍好美食＆商品！', 'Linux 我來教: CentOS/ RHEL 8 新世代雲端', '口譯員浩爾的打獵式聆聽＆資訊處理術', '資料變決策！從零上手 Tableau 大數據視覺化', '互動藝術程式創作入門 Creative Coding ', '人生管理學：把自己當成公司經營', '薩克斯風 - 13 堂基本功吹出專輯的美聲', '用實際案例學設計-美編的 InDesign 排版課', '動盪時代的資產配置：王伯達人生財務規劃學', '手繪轉電繪，我選 Procreate！', '氣球達人不藏私！宋俊霖的塞球雕塑造型課', '0-2 歲寶寶父母必修課 - 專業治療師開課囉！']\n"
     ]
    }
   ],
   "source": [
    "course = []\n",
    "    \n",
    "for d in soup.find_all(\"h4\"):\n",
    "    print(d.text)\n",
    "    course.append(d.text)\n",
    "\n",
    "print(course)"
   ]
  },
  {
   "cell_type": "code",
   "execution_count": 31,
   "metadata": {},
   "outputs": [],
   "source": [
    "browser.close()"
   ]
  },
  {
   "cell_type": "markdown",
   "metadata": {},
   "source": [
    "### 2. 剛剛的做法只能取出第一頁，試著取出所有頁面的資料。"
   ]
  },
  {
   "cell_type": "code",
   "execution_count": 13,
   "metadata": {},
   "outputs": [],
   "source": [
    "from selenium import webdriver\n",
    "from selenium.webdriver.support.ui import Select\n",
    "from bs4 import BeautifulSoup\n",
    "\n",
    "browser = webdriver.Chrome(executable_path='chromedriver')\n",
    "browser.get(\"https://hahow.in/courses\")"
   ]
  },
  {
   "cell_type": "code",
   "execution_count": 14,
   "metadata": {},
   "outputs": [],
   "source": [
    "# 取得資料（等瀏覽器資料出現後才執行）\n",
    "html_source = browser.page_source\n",
    "soup = BeautifulSoup(html_source, 'html.parser')\n"
   ]
  },
  {
   "cell_type": "code",
   "execution_count": 16,
   "metadata": {},
   "outputs": [
    {
     "name": "stdout",
     "output_type": "stream",
     "text": [
      "20\n"
     ]
    }
   ],
   "source": [
    "# 1. 先取出全部有幾頁\n",
    "    \n",
    "links = []\n",
    "courses = []\n",
    "\n",
    "#找出所有頁數連結\n",
    "for d in soup.find_all(\"li\",class_=\"rc-pagination-item\"):\n",
    "    link = \"https://hahow.in\"+d.a[\"href\"]\n",
    "    links.append(link)"
   ]
  },
  {
   "cell_type": "code",
   "execution_count": 37,
   "metadata": {},
   "outputs": [],
   "source": [
    "# 2. 每頁都取出資料放入 courses\n",
    "\n",
    "for link in links: \n",
    "    driver = webdriver.Chrome(\"/Users/Pacy/Downloads/chromedriver-2\")\n",
    "    driver.get(link)\n",
    "    html_source = driver.page_source\n",
    "    soup = BeautifulSoup(html_source,\"html.parser\")\n",
    "    for d in soup.find_all(\"h4\"):   \n",
    "        #print(d.text)\n",
    "        courses.append(d.text)\n",
    "        driver.close()\n",
    "\n",
    "print(courses)"
   ]
  },
  {
   "cell_type": "code",
   "execution_count": 38,
   "metadata": {},
   "outputs": [
    {
     "name": "stdout",
     "output_type": "stream",
     "text": [
      "['顧客分類大師：Python x RFM 會員經營新觀點', '翻轉文字：給孩子好玩的創意寫作課！', '大人的蠟筆畫：活用油畫知識，寫實生活微光', '機器學習攻略：實戰心法到求職技巧', '法式甜點在地魂製作攻略－日日在家菓實日', '林長揚職場簡報術：一次搞定所有工作簡報！', '概念式時尚插畫｜我的小小時裝週', '羅寶鴻的安定教養課：12 個對話練習與心法', '七日減醣計畫「一週持續執行！」邊吃邊享瘦', '閱讀攝影的眼神 - 啟動你的影像理解力', '手機 App 開發入門：App Inventor 2 實作', '全民防疫通識課：陳建仁副總統來開講', '省錢攝影術：零基礎拍好美食＆商品！', 'Linux 我來教: CentOS/ RHEL 8 新世代雲端', '口譯員浩爾的打獵式聆聽＆資訊處理術', '資料變決策！從零上手 Tableau 大數據視覺化', '互動藝術程式創作入門 Creative Coding ', '人生管理學：把自己當成公司經營', '薩克斯風 - 13 堂基本功吹出專輯的美聲', '用實際案例學設計-美編的 InDesign 排版課', '動盪時代的資產配置：王伯達人生財務規劃學', '手繪轉電繪，我選 Procreate！', '氣球達人不藏私！宋俊霖的塞球雕塑造型課', '0-2 歲寶寶父母必修課 - 專業治療師開課囉！', '一支手機拍完行銷影片，產品賣更好！', 'Keynote即戰力：簡報製作到上台演講都搞定', '輕鬆學好道地美式發音！', '資料科學：Azure 機器學習工作室入門', '話聊庶務課－探索你說話的個人風格', '新手上路必學：電商人才求職全攻略！', 'Office論文格式技巧：高效編輯專業文件', '蝦皮個人賣家行銷術：突破網拍初期盲點  ', 'ZBrush 201 從初階到高階 - 隱藏密技大公開', 'PHP 攻略：Laravel 5.8 從入門到實務', '成功前進科技巨頭，百萬年薪面試術！', 'Github 免費架站術！輕鬆打造個人品牌', '網美咖啡廳在你家，九款鏡面蛋糕一次學', '產品分析入門：UX 設計師的思考術', 'Docker 部署入門完全指南-圖片速學攻略', 'Python 0 到 1 基礎商業數據分析實戰', '角色原型雕塑 - 走進電影美術的世界', '【AI 深度學習】新手入門應用篇', '一次搞懂專案管理 - 從入門到業界實務', '畫出有質感的 2D 手繪動畫 - Toon Boom', '你的遠端私人教練，從零開始的增肌訓練課', '新制多益聽力滿分攻略－高效率秒殺解題技巧', '指尖上的閃亮秘密 - 你的第一堂指甲養護課']\n"
     ]
    }
   ],
   "source": [
    "# 3. done!\n",
    "\n",
    "print(courses)"
   ]
  },
  {
   "cell_type": "code",
   "execution_count": 51,
   "metadata": {},
   "outputs": [
    {
     "name": "stdout",
     "output_type": "stream",
     "text": [
      "['拍一次就搞定！FB IG YT 通用的行銷影片', '說說立體刺繡花葉動物｜交織裡的平衡韻律 ', '邏輯表達力-周震宇的口語邏輯優化課', '五星級法式經典甜點在家做', '掌握鉤針編織邏輯：五種針法自造生活小物', 'Python 推薦系統入門: 打造令人上癮的產品', '堯中人像攝影創作：掌握光影發掘人像質感', '日新麥克筆魔法：十支筆創造新視界－慕夏篇', '志祺的架構性思考：從資訊整理到觀點表達', ' PS 核心技法 | 調色技法完全講解篇', '҉唐鳳҉數位溝通社：就這樣把你增幅', '四叉貓網美談資社：美少女反串溝通愛心光波', '楊大正台語詞創社：咱就大力來寫著歌', '大支嘻哈研究社：饒舌饒出台灣味', '賴品妤 Cosplay 社：ㄘ我的二次元替身攻擊', '月月鳥昆蟲研究社：跟鄭運鵬變身甲蟲王', '單人也可佈光：有趣的L角佈燈術', '人氣喫茶店 KADOYA 主廚帶你做日式洋菓子', '你適合買房嗎？給居住焦慮世代的購屋指南', '發展無限的 iPodcast-揭開播客教練的獲利模式', '量價交易精隨：打造股票、期貨完美交易策略', '掌握關鍵數據，黃金、原油投資高勝率全攻略', '王梓沅的 3D 英文筆記術：打造最強「說」「寫」英語資料庫', '跟著阿麗學俄文 : 打造標準的俄語發音', '韓式擠花神手：韓國人金老師的擠花杯子蛋糕', '臺菜廚神阿發師的 12 堂課 - 辦桌菜輕鬆做', '跨國紙筆之旅：B6 速寫男帶你畫遍全世界', '說故事的 15 個秘密－基礎編劇實戰力', '侯吉諒書法講堂：從零開始，學寫一手好字', 'Python 行銷資料科學 ：基礎語法入門最前線', 'Unity 從零開始新手入門：2D 橫向捲軸遊戲', '品牌包裝設計學：從包裝建立最佳使用體驗', 'Today at Apple:和攝影師 Paddy 用 iPhone 拍出商業空間形象照', 'Today at Apple:和設計師馮宇拆解商業 LOGO 案例', 'Today at Apple:和攝影師 Ada Lin 用 iPhone 學習專業商品攝影', 'Python 資料分析：AI 機器學習入門到應用', '余惟的生活時尚攝影：拍出日常裡的封面人物', '雷浩斯價值投資：用質化分析找出價值成長股', '火頭工做麵包：與酵母共舞，設計專屬配方', '職場英文大補帖｜上班族的跨國會議必修課', '【生活裡的花與器】風格美感花藝選搭課', '數位轉型敲門磚，產業必學 AI 思維通識課', '揮別五音不全：威宇老師的音準訓練課', '一課思考學：你需要知道的一切，都在這一課', '這樣做設計思考更有用！UX 有感提案術', '創新先生瘋狂創造力：創造力思維與發想流程', '基礎情境練習課：建立你的英文文法邏輯腦', '藝用解剖學 2 - 凝望透視之眼 360 度全視野攻略', '新手能上手！居家健身，肌群練習一次到位', '婚禮企劃與主持入門課', '黃瑽寧的 10 堂育兒必修課全系列', '毛心潔的哺乳全攻略：觀念篇＋實作篇', '鄧惠文的關係心理學：親子篇', '10 堂課教出孩子的好情緒', '聽海苔熊「談」戀愛：剖析童話，療癒愛情', 'Python 進階課程：觀念、語法、專案、爬蟲', '龍師傅的台菜世界廚房', '萬用馭髮術全攻略 - 女神髮型養成班', '實境遊戲設計：打造好玩又有意義的情境體驗', '產品設計實戰：用Figma打造絕佳UI/UX', '許榮哲的故事課 - 三分鐘說 18 萬個故事', 'Rose 的色鉛筆插畫課 - 粉彩系午茶派對', '旅行攝影：按下快門，用攝影書寫故事', '占星之門安格斯｜十二宮位找出人生攻略', '一生必學的圍棋課—入門變達人', '台式冷便當｜不用蒸也能輕鬆帶的便當', '跟 YouTuber 莫彩曦學美國道地的說話習慣', '用 Python 理財：打造加密貨幣實戰策略', '總經投資必學，看懂美中歐三大央行政策！', '第一堂德語課：開啟德國留學之路', '行銷提案實戰：讓你的想法被一次買單', '每天十分鐘跳出自信與魅力：超好學街舞課！', 'Podcast 全攻略：打造你的品牌和影響力', '凱蒂瑜珈：夢幻動作從頭學，開啟練習新里程', '六大實拍範例，商攝打光再精進', '24 單元入門投資科學 一次搞懂投資必備知識', '養個股兒子︱要存就存冷門股', 'Unity+Fungus 免程式製作你的文字冒險遊戲', '作品集必備！Mockup 模擬圖合成術', '小錢投資大公司，受用一生美股投資觀念', '冠軍 DJ DinPei－帶你從零開始成為專業 DJ', '女性專屬！筋肉媽媽的高效增肌減脂課', '寫一手西洋書法美字：銅版體習字課', '服飾批貨課：獨門批購心法讓你低庫存高利潤', '一變應萬變：RWD 響應式網頁設計', '精通 Bootstrap 4 - 開發超強不解釋', '使用 HTML、CSS 開發一個網站', '使用 jQuery 打造互動性網頁動畫效果', '職場必備的批判思考力：沉思力篇', '職場人必學的商業分析術', '產品數據分析 - 打造網路產品的決策引擎', '做圖啦！設計省攻略：品牌應用新手速成', '我的設計超美感 – C4D 視覺密碼懶人包', '從零開始，ob11/黏土娃娃衣製作教學', '用攝影打造第二人生｜讓熱情全職為你工作', '6五3的書法設計課：跳脫字帖的書寫自由式', '打電動也能賺錢：如何成為遊戲實況主？', '《當我們扯在一起》太陽馬戲團老師的扯鈴課', '代購創業實戰班：14 天開創你的電商副業', 'Photoshop 合成必修 - 電影光影場景合成', 'Podcast 新手攻略課程：0 到 1 必學指南', '韓式香氛蠟燭 - 證照級蠟燭技法', 'Seagate 講堂 | 動態導演林呈軒教你做履歷', 'Seagate 講堂 | 平面設計師顏伯駿教你做履歷', 'Seagate 講堂 | 影像後製再現影像教你做履歷', '德文輕鬆學，零基礎也學得會的實用會話', '跑者必修！馬拉松完賽全方位跑典', '心智繪圖思考法：繪製你的思維地圖 ', '在家CEO！在家打造量身訂做的個人事業', '王永福教學的技術：翻轉課堂的職業講師祕訣', '職場英文即戰力 :  一步步打造最佳自學途徑', 'IG 風格策展人：創造你的光影烏托邦', '打造動態報表！雲端 Python 爬蟲資料流', '職場溝通管理學：打造團隊好關係與高績效', '深入淺出：專案管理方法-敏捷式開發 Scrum ', '超級業務員的絕學：輕鬆說服任何人的銷售課', '為什麼你的影音內容，OTT 平台不買單？', '遠端工作必備：跨國英語 con-call 實戰力', '產品 x 創新：從需求洞察到產品策略', '用影像收藏人生：學會拍片，認識自己', '自己當導演！全方位微電影製作（基礎）', '掌握產品素描 - ID Sketch（入門）', '和以莉高露一起學吉他', '超療癒！唐幼馨的孕婦瑜伽', '火箭飛船遊太空 Rocket 2', '火箭發射飛行中 Rocket 1', '火箭準備起飛了 Yoga Basics', '超好玩！李麥克的親子玩具製作', '動物插畫', '超滿足！王師傅的元氣料理', '超 EAZY！在家初學的紓壓瑜伽', '做自己的藏書票（新孔版）', '法式繽紛馬卡龍', '簡單學會入門款 【復古手工書 】', '糖果娃娃 - 學校畢業紀念娃娃', '為申請學校或工作寫好英文自傳', '療癒感手繪插畫食譜', '教你用免費軟體 混音組曲當 DJ！', '不一樣的西洋美術史', 'Line 的貼圖自己動手做！', '數位拼貼的手感', '幾何圖形分割 X 色塊組合']\n"
     ]
    }
   ],
   "source": [
    "#練習\n",
    "import requests \n",
    "from bs4 import BeautifulSoup \n",
    "import re, time \n",
    "\n",
    "r = requests.get(\"https://hahow.in/courses\")\n",
    "d = BeautifulSoup(r.text,\"lxml\")\n",
    "\n",
    "from selenium import webdriver \n",
    "from selenium.webdriver.support.ui import Select \n",
    "\n",
    "driver = webdriver.Chrome(\"/Users/Pacy/Downloads/chromedriver-2\")\n",
    "driver.get(\"https://hahow.in/courses\")\n",
    "\n",
    "html_source = driver.page_source\n",
    "html_source \n",
    "\n",
    "soup = BeautifulSoup(html_source,\"html.parser\")\n",
    "\n",
    "links = []\n",
    "courses = []\n",
    "\n",
    "#找出所有頁數連結\n",
    "for d in soup.find_all(\"li\",class_=\"rc-pagination-item\"):\n",
    "    link = \"https://hahow.in\"+d.a[\"href\"]\n",
    "    links.append(link)\n",
    "\n",
    "#抓取所有頁數課程\n",
    "\n",
    "for link in links: \n",
    "    driver = webdriver.Chrome(\"/Users/Pacy/Downloads/chromedriver-2\")\n",
    "    driver.get(link)\n",
    "    html_source = driver.page_source\n",
    "    soup = BeautifulSoup(html_source,\"html.parser\")\n",
    "    for d in soup.find_all(\"h4\"):   \n",
    "        #print(d.text)\n",
    "        courses.append(d.text)\n",
    "\n",
    "print(courses)"
   ]
  },
  {
   "cell_type": "code",
   "execution_count": null,
   "metadata": {},
   "outputs": [],
   "source": []
  }
 ],
 "metadata": {
  "kernelspec": {
   "display_name": "Python 3",
   "language": "python",
   "name": "python3"
  },
  "language_info": {
   "codemirror_mode": {
    "name": "ipython",
    "version": 3
   },
   "file_extension": ".py",
   "mimetype": "text/x-python",
   "name": "python",
   "nbconvert_exporter": "python",
   "pygments_lexer": "ipython3",
   "version": "3.8.5"
  }
 },
 "nbformat": 4,
 "nbformat_minor": 2
}
