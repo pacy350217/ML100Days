{
 "cells": [
  {
   "cell_type": "markdown",
   "metadata": {},
   "source": [
    "# 台灣銀行牌告匯率爬蟲練習\n",
    "## 範例1： 練習爬取台幣對其他貨幣匯率資料"
   ]
  },
  {
   "cell_type": "code",
   "execution_count": 1,
   "metadata": {},
   "outputs": [],
   "source": [
    "import requests\n",
    "from bs4 import BeautifulSoup\n",
    "from datetime import datetime\n",
    "import pandas as pd\n",
    "import matplotlib.pyplot as plt"
   ]
  },
  {
   "cell_type": "markdown",
   "metadata": {},
   "source": [
    "### 進入台灣銀行牌告匯率網頁：https://rate.bot.com.tw/xrt?Lang=zh-TW ，擷取當日台幣對美金的匯率資訊"
   ]
  },
  {
   "cell_type": "code",
   "execution_count": 2,
   "metadata": {},
   "outputs": [
    {
     "name": "stdout",
     "output_type": "stream",
     "text": [
      "\r\n",
      "美金(USD)\r\n",
      "\n",
      "即時現金買入: 30.96, 即時現金賣出: 31.63\n"
     ]
    }
   ],
   "source": [
    "# 進入台灣銀行牌告匯率網頁，查看當日匯率資料\n",
    "url = \"https://rate.bot.com.tw/xrt?Lang=zh-TW\"\n",
    "resp = requests.get(url)\n",
    "resp.encoding = 'utf-8'\n",
    "# print(resp.text)  # 如有需要，列印出網頁原始碼\n",
    "\n",
    "html = BeautifulSoup(resp.text, \"lxml\")\n",
    "rate_table = html.find(name='table', attrs={'title':'牌告匯率'}).find(name='tbody').find_all(name='tr')\n",
    "\n",
    "# 查詢美金(也就是匯率表的第一個元素)對台幣的匯率\n",
    "currency = rate_table[0].find(name='div', attrs={'class':'visible-phone print_hide'})\n",
    "print(currency.get_text().replace(\" \", \"\"))  # 去掉空白\n",
    "\n",
    "buy_rate = rate_table[0].find(name='td', attrs={'data-table':'本行現金買入'})\n",
    "sell_rate = rate_table[0].find(name='td', attrs={'data-table':'本行現金賣出'})\n",
    "print(\"即時現金買入: %s, 即時現金賣出: %s\" % (buy_rate.get_text(), sell_rate.get_text()))"
   ]
  },
  {
   "cell_type": "markdown",
   "metadata": {},
   "source": [
    "### 作業part 1：請參考上面的範例，試著爬取所有貨幣對台幣的匯率"
   ]
  },
  {
   "cell_type": "code",
   "execution_count": null,
   "metadata": {},
   "outputs": [],
   "source": [
    "import requests\n",
    "from bs4 import BeautifulSoup \n",
    "url = \"https://rate.bot.com.tw/xrt?Lang=zh-TW\"\n",
    "r = requests.get(url)\n",
    "r.encoding = \"utf-8\"\n",
    "response = r.text \n",
    "\n",
    "html = BeautifulSoup(response,\"lxml\")\n",
    "rate_table = html.find(name=\"table\",attrs={\"title\":\"牌告匯率\"})\n",
    "\n",
    "'''\n",
    "#列印出幣別-美金(USD)\n",
    "currency = rate_table.find(name=\"div\",attrs = {\"class\":\"visible-phone print_hide\"})\n",
    "print(currency.string.replace(\" \",\"\")) \n",
    "\n",
    "#現金買入、賣出-美金(USD)\n",
    "buy_rate = rate_table.find(name=\"td\",attrs={\"data-table\":\"本行現金買入\"})\n",
    "print(\"即時現金買入:\",buy_rate.string)'''\n",
    "\n",
    "sell_rate = rate_table.find(name=\"td\",attrs={\"data-table\":\"本行現金賣出\"})\n",
    "print(\"即時現金賣出:\",sell_rate.string)\n",
    "\n",
    "currency_li= []\n",
    "buy_rate_li = []\n",
    "sell_rate_li = []\n",
    "\n",
    "#所有貨幣幣別\n",
    "currency = rate_table.find_all(name=\"div\",attrs = {\"class\":\"visible-phone print_hide\"})\n",
    "for c in currency:\n",
    "    cur = c.string.replace(\" \",\"\").replace(\"\\n\",\"\")\n",
    "    currency_li.append(cur)\n",
    "\n",
    "\n",
    "#現金買入、賣出-所有貨幣\n",
    "buy_rate = rate_table.find_all(name=\"td\",attrs={\"data-table\":\"本行現金買入\"})\n",
    "for br in buy_rate:\n",
    "    buy = br.string\n",
    "    if buy not in buy_rate_li:\n",
    "        buy_rate_li.append(buy)\n",
    "\n",
    "sell_rate = rate_table.find_all(name=\"td\",attrs={\"data-table\":\"本行現金賣出\"})\n",
    "for sr in sell_rate:\n",
    "    sell = sr.string\n",
    "    if sell not in sell_rate_li:\n",
    "        sell_rate_li.append(sell)\n",
    "\n",
    "for i in range(len(currency_li)):\n",
    "    print(currency_li[i])\n",
    "    print(\"即時現金買入:\",buy_rate_li[i])\n",
    "    print(\"即時現金賣出:\",sell_rate_li[i])"
   ]
  },
  {
   "cell_type": "markdown",
   "metadata": {},
   "source": [
    "## 範例2：爬取一個月的美金對台幣歷史匯率資料，並畫出趨勢圖"
   ]
  },
  {
   "cell_type": "code",
   "execution_count": 4,
   "metadata": {},
   "outputs": [
    {
     "name": "stdout",
     "output_type": "stream",
     "text": [
      "\r\n",
      "美金(USD)\r\n",
      "\n"
     ]
    },
    {
     "data": {
      "text/plain": [
       "<Figure size 720x576 with 0 Axes>"
      ]
     },
     "metadata": {},
     "output_type": "display_data"
    },
    {
     "data": {
      "image/png": "[encoded data removed]",
      "text/plain": [
       "<Figure size 432x288 with 1 Axes>"
      ]
     },
     "metadata": {},
     "output_type": "display_data"
    }
   ],
   "source": [
    "# 先到牌告匯率首頁，爬取所有貨幣的種類\n",
    "url = \"https://rate.bot.com.tw/xrt?Lang=zh-TW\"\n",
    "resp = requests.get(url)\n",
    "resp.encoding = 'utf-8'\n",
    "html = BeautifulSoup(resp.text, \"lxml\")\n",
    "rate_table = html.find(name='table', attrs={'title':'牌告匯率'}).find(name='tbody').find_all(name='tr')\n",
    "\n",
    "# 擷取匯率表格，把美金(也就是匯率表的第一個元素)擷取出來，查詢其歷史匯率\n",
    "currency = rate_table[0].find(name='div', attrs={'class':'visible-phone print_hide'})\n",
    "print(currency.get_text().replace(\" \", \"\"))  # 貨幣種類\n",
    "\n",
    "# 針對美金，找到其「歷史匯率」的首頁 \n",
    "history_link = rate_table[0].find(name='td', attrs={'data-table':'歷史匯率'})\n",
    "history_rate_link = \"https://rate.bot.com.tw\" + history_link.a[\"href\"]  # 該貨幣的歷史資料首頁\n",
    "\n",
    "#\n",
    "# 到貨幣歷史匯率網頁，選則該貨幣的「歷史區間」，送出查詢後，觀察其網址變化情形，再試著抓取其歷史匯率資料\n",
    "#\n",
    "# 用「quote/年-月」去取代網址內容，就可以連到該貨幣的歷史資料\n",
    "quote_history_url = history_rate_link.replace(\"history\", \"quote/2019-08\")\n",
    "resp = requests.get(quote_history_url)\n",
    "resp.encoding = 'utf-8'\n",
    "history = BeautifulSoup(resp.text, \"lxml\")\n",
    "history_table = history.find(name='table', attrs={'title':'歷史本行營業時間牌告匯率'}).find(name='tbody').find_all(name='tr')\n",
    "\n",
    "#\n",
    "# 擷取到歷史匯率資料後，把資料彙整起來並畫出趨勢圖\n",
    "#\n",
    "date_history = list()\n",
    "history_buy = list()\n",
    "history_sell = list()\n",
    "\n",
    "for history_rate in history_table:\n",
    "    # 擷取日期資料\n",
    "    date_string = history_rate.a.get_text()\n",
    "    date = datetime.strptime(date_string, '%Y/%M/%d').strftime('%Y/%M/%d')  # 轉換日期格式\n",
    "    date_history.append(date)  # 日期歷史資料\n",
    "\n",
    "    history_ex_rate = history_rate.find_all(name='td', attrs={'class':'rate-content-cash text-right print_table-cell'})\n",
    "    history_buy.append(float(history_ex_rate[0].get_text()))  # 歷史買入匯率\n",
    "    history_sell.append(float(history_ex_rate[1].get_text()))  # 歷史賣出匯率\n",
    "\n",
    "# 將匯率資料建成dataframe形式\n",
    "HistoryExchangeRate = pd.DataFrame({'date': date_history,\n",
    "                                    'buy_rate':history_buy,\n",
    "                                    'sell_rate':history_sell})\n",
    "\n",
    "HistoryExchangeRate = HistoryExchangeRate.set_index('date')  # 指定日期欄位為datafram的index\n",
    "HistoryExchangeRate = HistoryExchangeRate.sort_index(ascending=True)\n",
    "\n",
    "# 畫出歷史匯率軌跡圖\n",
    "plt.figure(figsize=(10, 8))\n",
    "HistoryExchangeRate[['buy_rate','sell_rate']].plot()  # x=['date'], y=[['buy_rate','sell_rate']] \n",
    "plt.legend(loc=\"upper left\")\n",
    "plt.show()"
   ]
  },
  {
   "cell_type": "markdown",
   "metadata": {},
   "source": [
    "### 作業part 2：爬取每種貨幣對台幣的一個月歷史匯率資料，並畫出趨勢圖"
   ]
  },
  {
   "cell_type": "code",
   "execution_count": 28,
   "metadata": {},
   "outputs": [
    {
     "name": "stdout",
     "output_type": "stream",
     "text": [
      "{'美金(USD)': '2020/11/302020/11/272020/11/262020/11/252020/11/242020/11/232020/11/202020/11/192020/11/182020/11/172020/11/162020/11/132020/11/122020/11/112020/11/102020/11/092020/11/062020/11/052020/11/042020/11/032020/11/02', '港幣(HKD)': '2020/11/302020/11/272020/11/262020/11/252020/11/242020/11/232020/11/202020/11/192020/11/182020/11/172020/11/162020/11/132020/11/122020/11/112020/11/102020/11/092020/11/062020/11/052020/11/042020/11/032020/11/02', '英鎊(GBP)': '2020/11/302020/11/272020/11/262020/11/252020/11/242020/11/232020/11/202020/11/192020/11/182020/11/172020/11/162020/11/132020/11/122020/11/112020/11/102020/11/092020/11/062020/11/052020/11/042020/11/032020/11/02', '澳幣(AUD)': '2020/11/302020/11/272020/11/262020/11/252020/11/242020/11/232020/11/202020/11/192020/11/182020/11/172020/11/162020/11/132020/11/122020/11/112020/11/102020/11/092020/11/062020/11/052020/11/042020/11/032020/11/02', '加拿大幣(CAD)': '2020/11/302020/11/272020/11/262020/11/252020/11/242020/11/232020/11/202020/11/192020/11/182020/11/172020/11/162020/11/132020/11/122020/11/112020/11/102020/11/092020/11/062020/11/052020/11/042020/11/032020/11/02', '新加坡幣(SGD)': '2020/11/302020/11/272020/11/262020/11/252020/11/242020/11/232020/11/202020/11/192020/11/182020/11/172020/11/162020/11/132020/11/122020/11/112020/11/102020/11/092020/11/062020/11/052020/11/042020/11/032020/11/02', '瑞士法郎(CHF)': '2020/11/302020/11/272020/11/262020/11/252020/11/242020/11/232020/11/202020/11/192020/11/182020/11/172020/11/162020/11/132020/11/122020/11/112020/11/102020/11/092020/11/062020/11/052020/11/042020/11/032020/11/02', '日圓(JPY)': '2020/11/302020/11/272020/11/262020/11/252020/11/242020/11/232020/11/202020/11/192020/11/182020/11/172020/11/162020/11/132020/11/122020/11/112020/11/102020/11/092020/11/062020/11/052020/11/042020/11/032020/11/02', '南非幣(ZAR)': '2020/11/302020/11/272020/11/262020/11/252020/11/242020/11/232020/11/202020/11/192020/11/182020/11/172020/11/162020/11/132020/11/122020/11/112020/11/102020/11/092020/11/062020/11/052020/11/042020/11/032020/11/02', '瑞典幣(SEK)': '2020/11/302020/11/272020/11/262020/11/252020/11/242020/11/232020/11/202020/11/192020/11/182020/11/172020/11/162020/11/132020/11/122020/11/112020/11/102020/11/092020/11/062020/11/052020/11/042020/11/032020/11/02', '紐元(NZD)': '2020/11/302020/11/272020/11/262020/11/252020/11/242020/11/232020/11/202020/11/192020/11/182020/11/172020/11/162020/11/132020/11/122020/11/112020/11/102020/11/092020/11/062020/11/052020/11/042020/11/032020/11/02', '泰幣(THB)': '2020/11/302020/11/272020/11/262020/11/252020/11/242020/11/232020/11/202020/11/192020/11/182020/11/172020/11/162020/11/132020/11/122020/11/112020/11/102020/11/092020/11/062020/11/052020/11/042020/11/032020/11/02', '菲國比索(PHP)': '2020/11/302020/11/272020/11/262020/11/252020/11/242020/11/232020/11/202020/11/192020/11/182020/11/172020/11/162020/11/132020/11/122020/11/112020/11/102020/11/092020/11/062020/11/052020/11/042020/11/032020/11/02', '印尼幣(IDR)': '2020/11/302020/11/272020/11/262020/11/252020/11/242020/11/232020/11/202020/11/192020/11/182020/11/172020/11/162020/11/132020/11/122020/11/112020/11/102020/11/092020/11/062020/11/052020/11/042020/11/032020/11/02', '歐元(EUR)': '2020/11/302020/11/272020/11/262020/11/252020/11/242020/11/232020/11/202020/11/192020/11/182020/11/172020/11/162020/11/132020/11/122020/11/112020/11/102020/11/092020/11/062020/11/052020/11/042020/11/032020/11/02', '韓元(KRW)': '2020/11/302020/11/272020/11/262020/11/252020/11/242020/11/232020/11/202020/11/192020/11/182020/11/172020/11/162020/11/132020/11/122020/11/112020/11/102020/11/092020/11/062020/11/052020/11/042020/11/032020/11/02', '越南盾(VND)': '2020/11/302020/11/272020/11/262020/11/252020/11/242020/11/232020/11/202020/11/192020/11/182020/11/172020/11/162020/11/132020/11/122020/11/112020/11/102020/11/092020/11/062020/11/052020/11/042020/11/032020/11/02', '馬來幣(MYR)': '2020/11/302020/11/272020/11/262020/11/252020/11/242020/11/232020/11/202020/11/192020/11/182020/11/172020/11/162020/11/132020/11/122020/11/112020/11/102020/11/092020/11/062020/11/052020/11/042020/11/032020/11/02', '人民幣(CNY)': '2020/11/302020/11/272020/11/262020/11/252020/11/242020/11/232020/11/202020/11/192020/11/182020/11/172020/11/162020/11/132020/11/122020/11/112020/11/102020/11/092020/11/062020/11/052020/11/042020/11/032020/11/02'}\n",
      "----------------------\n",
      "{'美金(USD)': '28.4128.3928.3928.428.4128.3828.428.428.3328.428.3928.4228.4328.428.4328.428.4428.4428.5828.4928.48', '港幣(HKD)': '3.563.5583.5583.5593.563.5563.5583.5593.553.5583.5573.563.5623.5583.5623.5583.5633.5623.5823.5713.568', '英鎊(GBP)': '37.2437.2937.3137.3237.2637.1836.9836.9336.9536.8436.8936.7436.8137.0436.8136.7736.7436.3336.3336.1936.09', '澳幣(AUD)': '20.8820.8420.8120.7820.7220.6620.5820.6220.620.6620.6120.4820.5320.6120.620.620.5920.3420.1420.0219.84', '加拿大幣(CAD)': '21.6821.6421.6521.6521.5921.5321.5321.5221.4821.5221.4921.4321.5121.5921.6621.6521.5821.4921.3521.3621.17', '新加坡幣(SGD)': '20.9720.9320.9320.8820.8620.8720.8520.8520.8520.8420.8320.7920.7720.7920.8220.8820.8220.6820.6420.6220.56', '瑞士法郎(CHF)': '31.1130.9630.930.8130.7830.830.8330.830.7430.7530.7930.6930.6530.6230.7831.2231.1430.8630.8430.6630.65', '日圓(JPY)': '0.26750.26750.26670.26660.26660.2680.2680.26810.26740.26640.26650.26510.26450.2640.26520.26910.26960.26720.26690.2670.2662', '南非幣(ZAR)': '0.00.00.00.00.00.00.00.00.00.00.00.00.00.00.00.00.00.00.00.00.0', '瑞典幣(SEK)': '3.013.03.03.02.962.962.972.962.952.952.952.952.952.962.962.962.932.92.872.862.86', '紐元(NZD)': '19.7619.7419.6919.6119.6219.5119.4519.4219.3819.3719.3319.2119.3219.3519.219.1419.1318.8918.7718.7318.59', '泰幣(THB)': '0.82320.82320.82220.8210.82210.82290.82270.82040.8210.82640.82620.82670.82330.82410.81760.81730.81330.80180.8030.80250.7992', '菲國比索(PHP)': '0.5250.52420.52520.52480.52450.52340.5230.52190.52250.52290.5240.52390.52110.52210.52350.52450.52520.52330.52470.52360.5222', '印尼幣(IDR)': '0.001680.001730.001680.001680.001680.001680.001680.001680.001680.001730.001680.001680.001680.001730.001730.001730.001680.001680.001630.001630.00163', '歐元(EUR)': '33.6733.5333.5333.4933.3433.3433.3733.3133.3233.3133.3133.2333.1533.1833.2833.4333.3333.0532.9832.8932.77', '韓元(KRW)': '0.024280.024320.024320.024290.02420.024170.024050.024110.024320.024290.024260.024160.024120.024180.024110.024110.0240.023830.023610.023720.0237', '越南盾(VND)': '0.000870.000870.000870.000870.000870.000870.000870.000870.000870.000870.000870.000870.000870.000870.000870.000870.000870.000870.000880.000870.00087', '馬來幣(MYR)': '5.9655.9585.9625.9355.9295.9245.9265.9225.9215.9015.8825.8715.8625.875.8765.8935.8595.8335.8415.8425.835', '人民幣(CNY)': '4.2824.284.2884.2854.2864.2874.2854.2864.2964.2914.2834.2574.2514.2644.2694.2974.264.254.2144.224.215'}\n",
      "----------------------\n",
      "{'美金(USD)': '29.0829.0629.0629.0729.0829.0529.0729.0729.029.0729.0629.0929.129.0729.129.0729.1129.1129.2529.1629.15', '港幣(HKD)': '3.7643.7623.7623.7633.7643.763.7623.7633.7543.7623.7613.7643.7663.7623.7663.7623.7673.7663.7863.7753.772', '英鎊(GBP)': '39.3639.4139.4339.4439.3839.339.139.0539.0738.9639.0138.8638.9339.1638.9338.8938.8638.4538.4538.3138.21', '澳幣(AUD)': '21.6621.6221.5921.5621.521.4421.3621.421.3821.4421.3921.2621.3121.3921.3821.3821.3721.1220.9220.820.62', '加拿大幣(CAD)': '22.5922.5522.5622.5622.522.4422.4422.4322.3922.4322.422.3422.4222.522.5722.5622.4922.422.2622.2722.08', '新加坡幣(SGD)': '21.8821.8421.8421.7921.7721.7821.7621.7621.7621.7521.7421.721.6821.721.7321.7921.7321.5921.5521.5321.47', '瑞士法郎(CHF)': '32.3132.1632.132.0131.9832.032.0332.031.9431.9531.9931.8931.8531.8231.9832.4232.3432.0632.0431.8631.85', '日圓(JPY)': '0.28030.28030.27950.27940.27940.28080.28080.28090.28020.27920.27930.27790.27730.27680.2780.28190.28240.280.27970.27980.279', '南非幣(ZAR)': '0.00.00.00.00.00.00.00.00.00.00.00.00.00.00.00.00.00.00.00.00.0', '瑞典幣(SEK)': '3.533.523.523.523.483.483.493.483.473.473.473.473.473.483.483.483.453.423.393.383.38', '紐元(NZD)': '20.6120.5920.5420.4620.4720.3620.320.2720.2320.2220.1820.0620.1720.220.0519.9919.9819.7419.6219.5819.44', '泰幣(THB)': '1.01321.01321.01221.0111.01211.01291.01271.01041.0111.01641.01621.01671.01331.01411.00761.00731.00330.99180.9930.99250.9892', '菲國比索(PHP)': '0.6580.65720.65820.65780.65750.65640.6560.65490.65550.65590.6570.65690.65410.65510.65650.65750.65820.65630.65770.65660.6552', '印尼幣(IDR)': '0.002380.002430.002380.002380.002380.002380.002380.002380.002380.002430.002380.002380.002380.002430.002430.002430.002380.002380.002330.002330.00233', '歐元(EUR)': '35.0134.8734.8734.8334.6834.6834.7134.6534.6634.6534.6534.5734.4934.5234.6234.7734.6734.3934.3234.2334.11', '韓元(KRW)': '0.028180.028220.028220.028190.02810.028070.027950.028010.028220.028190.028160.028060.028020.028080.028010.028010.02790.027730.027510.027620.0276', '越南盾(VND)': '0.001370.001370.001370.001370.001370.001370.001370.001370.001370.001370.001370.001370.001370.001370.001370.001370.001370.001370.001380.001370.00137', '馬來幣(MYR)': '7.597.5837.5877.567.5547.5497.5517.5477.5467.5267.5077.4967.4877.4957.5017.5187.4847.4587.4667.4677.46', '人民幣(CNY)': '4.4444.4424.454.4474.4484.4494.4474.4484.4584.4534.4454.4194.4134.4264.4314.4594.4224.4124.3764.3824.377'}\n"
     ]
    },
    {
     "data": {
      "text/plain": [
       "'\\n\\n  Your code here\\n\\n'"
      ]
     },
     "execution_count": 28,
     "metadata": {},
     "output_type": "execute_result"
    }
   ],
   "source": [
    "import requests\n",
    "from bs4 import BeautifulSoup\n",
    "from datetime import datetime\n",
    "import pandas as pd\n",
    "import matplotlib.pyplot as plt\n",
    "url = \"https://rate.bot.com.tw/xrt?Lang=zh-TW\"\n",
    "resp = requests.get(url)\n",
    "resp.encoding = \"utf-8\"\n",
    "response = resp.text\n",
    "html = BeautifulSoup(response,\"lxml\")\n",
    "rate_table = html.find(name=\"table\",attrs={\"title\":\"牌告匯率\"}).find(name=\"tbody\").find_all(name=\"tr\")\n",
    "\n",
    "\n",
    "# 擷取到歷史匯率資料後，把資料彙整起來並畫出趨勢圖\n",
    "date_history = {}\n",
    "history_buy = {}\n",
    "history_sell = {}\n",
    "    \n",
    "\n",
    "# 擷取匯率表格，把美金(也就是匯率表的第一個元素)擷取出來，查詢其歷史匯率\n",
    "for i in range(len(rate_table)):\n",
    "    currency = rate_table[i].find(name='div', attrs={'class':'visible-phone print_hide'})\n",
    "    cur_name = currency.get_text().replace(\" \", \"\").replace(\"\\r\",\"\").replace(\"\\n\",\"\")\n",
    "      \n",
    "\n",
    "# 針對美金，找到其「歷史匯率」的首頁 \n",
    "    history_link = rate_table[i].find(name='td', attrs={'data-table':'歷史匯率'})\n",
    "    history_rate_link = \"https://rate.bot.com.tw\" + history_link.a[\"href\"]  # 該貨幣的歷史資料首頁\n",
    "\n",
    "# 用「quote/年-月」去取代網址內容，就可以連到該貨幣的歷史資料\n",
    "    quote_history_url = history_rate_link.replace(\"history\", \"quote/2020-11\")\n",
    "    resp = requests.get(quote_history_url)\n",
    "    resp.encoding = 'utf-8'\n",
    "    history = BeautifulSoup(resp.text, \"lxml\")\n",
    "    history_table = history.find(name='table', attrs={'title':'歷史本行營業時間牌告匯率'}).find(name='tbody').find_all(name='tr')\n",
    "\n",
    "    \n",
    "    for history_rate in history_table:\n",
    "    # 擷取日期資料\n",
    "        date_string = history_rate.a.get_text()\n",
    "        date = datetime.strptime(date_string, '%Y/%M/%d').strftime('%Y/%M/%d')  # 轉換日期格式\n",
    "        if cur_name not in date_history.keys():\n",
    "            date_history[cur_name] = date\n",
    "        else:\n",
    "            date_history[cur_name]+= date  # 日期歷史資料\n",
    "\n",
    "        history_ex_rate = history_rate.find_all(name='td', attrs={'class':'rate-content-cash text-right print_table-cell'})\n",
    "        if cur_name not in history_buy.keys():\n",
    "            history_buy[cur_name] = str(float(history_ex_rate[0].get_text()))  # 歷史買入匯率\n",
    "        else:\n",
    "            history_buy[cur_name] += str(float(history_ex_rate[0].get_text()))\n",
    "        \n",
    "        if cur_name not in history_sell.keys():\n",
    "            history_sell[cur_name] =str(float(history_ex_rate[1].get_text()))  # 歷史賣出匯率\n",
    "        else:\n",
    "            history_sell[cur_name] +=str(float(history_ex_rate[1].get_text()))\n",
    "        \n",
    "print(date_history)\n",
    "print(\"----------------------\")\n",
    "print(history_buy)\n",
    "print(\"----------------------\")\n",
    "print(history_sell)\n",
    "\n",
    "# 將匯率資料建成dataframe\n",
    "\n",
    "HistoryExchangeRate =pd.Series({'date': date_history[cur_name],'buy_rate':history_buy[cur_name],'sell_rate':history_sell[cur_name]})\n",
    "#HistoryExchangeRate = HistoryExchangeRate.set_index('date')  # 指定日期欄位為datafram的index\n",
    "HistoryExchangeRate = HistoryExchangeRate.sort_index(ascending=True) #順序顛倒成8/1-8/30\n",
    "# 畫出歷史匯率軌跡圖\n",
    "'''plt.figure(figsize=(10, 8))\n",
    "        HistoryExchangeRate[history_buy[cur_name],[history_sell[cur_name]]].plot()  # x=['date'], y=[['buy_rate','sell_rate']] \n",
    "        plt.legend(loc=\"upper left\")\n",
    "        plt.show()'''\n",
    "\n",
    "\n",
    "\n",
    "'''\n",
    "\n",
    "  Your code here\n",
    "\n",
    "'''"
   ]
  },
  {
   "cell_type": "code",
   "execution_count": null,
   "metadata": {},
   "outputs": [],
   "source": []
  }
 ],
 "metadata": {
  "kernelspec": {
   "display_name": "Python 3",
   "language": "python",
   "name": "python3"
  },
  "language_info": {
   "codemirror_mode": {
    "name": "ipython",
    "version": 3
   },
   "file_extension": ".py",
   "mimetype": "text/x-python",
   "name": "python",
   "nbconvert_exporter": "python",
   "pygments_lexer": "ipython3",
   "version": "3.8.5"
  }
 },
 "nbformat": 4,
 "nbformat_minor": 2
}
