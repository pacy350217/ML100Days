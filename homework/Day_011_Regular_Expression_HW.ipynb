{
 "cells": [
  {
   "cell_type": "markdown",
   "metadata": {},
   "source": [
    "# 正規表達式練習\n",
    "## 在網路爬蟲當中，正規表達式常常用來過濾以及搜尋特定的pattern字串。\n",
    "## 今天要來練習過濾IP address，以及URL。"
   ]
  },
  {
   "cell_type": "code",
   "execution_count": null,
   "metadata": {},
   "outputs": [],
   "source": [
    "import re  #載入re模組"
   ]
  },
  {
   "cell_type": "code",
   "execution_count": null,
   "metadata": {},
   "outputs": [],
   "source": [
    "# 定義一個函數，用來測試是否能匹配正規表達式\n",
    "def RegexMatchingTest(regex, input_text):\n",
    "    #將正規表達式轉換成pattern\n",
    "    pattern = re.compile(regex)\n",
    "    \n",
    "    # 使轉換後的pattern，來測試是否匹配\n",
    "    result = re.search(pattern, input_text)\n",
    "\n",
    "    if result:\n",
    "        # 匹配完的結果會儲存在group()的屬性中，我們可以把匹配的結果列印出來\n",
    "        print(\"Matched: %s\" % (result.group()))\n",
    "        \n",
    "        if result.lastindex is not None:\n",
    "            # group(0)代表整個字串，group(1)、group(2)...代表分組中，匹配的內容\n",
    "            for i in range(0, result.lastindex+1):\n",
    "                print(\"  group(%d): %s\" % (i, result.group(i)))\n",
    "    else:\n",
    "        print(\"Not matched.\")"
   ]
  },
  {
   "cell_type": "markdown",
   "metadata": {},
   "source": [
    "## 用正規表達式過濾IP address。\n",
    "#### 一個合法的網路IP address，其格式為：X.X.X.X, 其中X是0~255的數字。我們可以用一個regex，來表達IP address的內容。"
   ]
  },
  {
   "cell_type": "code",
   "execution_count": 57,
   "metadata": {},
   "outputs": [
    {
     "name": "stdout",
     "output_type": "stream",
     "text": [
      "Matched:216.58.200.227\n",
      "group(0):216.58.200.227\n",
      "group(1):216\n",
      "group(2):58\n",
      "group(3):200\n",
      "group(4):227\n"
     ]
    }
   ],
   "source": [
    "test_string = \"Google IP address is 216.58.200.227\"\n",
    "\n",
    "# 過濾IP address的regex pattern\n",
    "regex = '(\\d{1,3}).(\\d{1,3}).(\\d{1,3}).(\\d{1,3})'\n",
    "RegexMatchingTest(regex, test_string)"
   ]
  },
  {
   "cell_type": "markdown",
   "metadata": {},
   "source": [
    "#### 以上是最簡單的regex寫法。但深入思考，上面的regex也能夠匹配444.555.666.777這種無效的IP address。\n",
    "#### 我們必須再雕琢regex，只接受[0~255].[0~255].[0~255].[0~255]這種合法的IP address，而過濾不合法的IP。"
   ]
  },
  {
   "cell_type": "code",
   "execution_count": 96,
   "metadata": {},
   "outputs": [
    {
     "name": "stdout",
     "output_type": "stream",
     "text": [
      "Matched:216.58.200.227\n",
      "group(0):216.58.200.227\n",
      "group(1):216\n",
      "group(2):58\n",
      "group(3):200\n",
      "group(4):227\n",
      "Not matched.\n"
     ]
    }
   ],
   "source": [
    "'''\n",
    "    Your code here.\n",
    "    hint: 把IP可能出現的數字範圍，分開來思考\n",
    "          1. 000 ~ 199\n",
    "          2. 200 ~ 249\n",
    "          3. 250 ~ 255\n",
    "'''\n",
    "regex = \"(25[0-5]|2[0-4][0-9]|[0-1]?[0-9][0-9]?)\\.(25[0-5]|2[0-4][0-9]|[0-1]?[0-9][0-9]?)\\.(25[0-9]|2[0-4][0-9]|[0-1]?[0-9]?[0-9])\\.(25[0-9]|2[0-4][0-9]|[0-1]?[0-9]?[0-9])\"\n",
    "\n",
    "test_string1 = \"Test IP 216.58.200.227\"\n",
    "RegexMatchingTest(regex, test_string1)  #測試表達式是否會匹配此合法IP\n",
    "\n",
    "test_string2 = \"Test IP 999.888.777.666\"\n",
    "RegexMatchingTest(regex, test_string2)  #測試表達式是否會匹配此不合法IP"
   ]
  },
  {
   "cell_type": "markdown",
   "metadata": {},
   "source": [
    "## 用正規表達式過濾URL。\n",
    "#### 在網頁爬蟲中，常常會有外部連結的A tag，例如：\n",
    "< a href=\"https://movies.yahoo.com.tw/movietime_result.html/id=9467\"> 時刻表 < /a >\n",
    "#### 我們要把\"href=\"之後的URL擷取出來，用來做後續處理。"
   ]
  },
  {
   "cell_type": "code",
   "execution_count": 112,
   "metadata": {},
   "outputs": [
    {
     "name": "stdout",
     "output_type": "stream",
     "text": [
      "Matched:http://movies.yahoo.com.tw/movietime_result.html/id=9467\n"
     ]
    }
   ],
   "source": [
    "html_a_tag = \"<a href=https://movies.yahoo.com.tw/movietime_result.html/id=9467> 時刻表 </a>\"\n",
    "'''\n",
    "    Your code here.\n",
    "    過濾URL的regex pattern\n",
    "'''\n",
    "regex = \"https?://.+\\d{4}\"\n",
    "RegexMatchingTest(regex, html_a_tag)"
   ]
  },
  {
   "cell_type": "code",
   "execution_count": 56,
   "metadata": {},
   "outputs": [
    {
     "name": "stdout",
     "output_type": "stream",
     "text": [
      "Matched:My plate number is XYZ-1234.\n",
      "Matched:My Phone number is 0912-345 678\n",
      "Matched:My Phone number is 0912-345 678\n",
      "Matched:I love dogs\n",
      "Not matched.\n",
      "Matched:I like baseball sport.\n",
      "group(0):I like baseball sport.\n",
      "group(1):baseball\n",
      "Matched:Please call number (02)2882-5252\n",
      "Matched:中文字\n"
     ]
    }
   ],
   "source": [
    "#練習\n",
    "import re \n",
    "\n",
    "def RegexMatchingTest(regex,input_text):\n",
    "    #將正規表達式換成pattern\n",
    "    pattern = re.compile(regex,flags = re.IGNORECASE) #忽略大小寫\n",
    "    #帶入pattern，來測試是否匹配\n",
    "    result = re.search(pattern,input_text)\n",
    "         \n",
    "    if result:\n",
    "        print(\"Matched:%s\"%(result.group()))\n",
    "        #print(result.lastindex)\n",
    "        if result.lastindex is not None:\n",
    "            for i in range(0,result.lastindex+1):\n",
    "                print(\"group(%d):%s\"%(i,result.group(i)))\n",
    "    \n",
    "    else:\n",
    "        print(\"Not matched.\")\n",
    "    \n",
    "    \n",
    "test_string = \"My plate number is XYZ-1234. ABX-5678.\"\n",
    "regex = \"My plate number is \\w\\w\\w-\\d\\d\\d\\d\\.\"\n",
    "RegexMatchingTest(regex,test_string)\n",
    "\n",
    "\n",
    "test_string_1 = \"My Phone number is 0912-345 678.\"\n",
    "regex = \"My Phone number is \\d{4}-\\d{3}\\s\\d{3}\"\n",
    "RegexMatchingTest(regex,test_string_1)\n",
    "\n",
    "test_string_2 = \"My Phone number is 0912-345 678.\"\n",
    "regex = \"My Phone number is .{4}-.{3}..{3}\"\n",
    "RegexMatchingTest(regex,test_string_2)\n",
    "\n",
    "test_string = \"I love dogs.\"\n",
    "regex = \"I love [acdnogst]+\" #搜尋一字以上\n",
    "RegexMatchingTest(regex,test_string)\n",
    "\n",
    "test_string = \"I love people.\"\n",
    "regex = \"I love [acdnogst]+\" #搜尋一字以上\n",
    "RegexMatchingTest(regex,test_string)\n",
    "\n",
    "test_string = \"I like baseball sport.\"\n",
    "regex = \"I like (hiking|baseball) sport.\"\n",
    "RegexMatchingTest(regex,test_string)\n",
    "\n",
    "test_string = \"Please call number (02)2882-5252.\"\n",
    "regex = \"Please call number \\([0-9]{2}\\)[0-9]{4}-[0-9]{4}\"\n",
    "RegexMatchingTest(regex,test_string)\n",
    "\n",
    "test_string = \"Here are 中文字 and English\"\n",
    "regex = \"[\\u4e00-\\u9fa5]+\"\n",
    "RegexMatchingTest(regex,test_string)\n",
    "\n"
   ]
  },
  {
   "cell_type": "code",
   "execution_count": null,
   "metadata": {},
   "outputs": [],
   "source": []
  },
  {
   "cell_type": "code",
   "execution_count": null,
   "metadata": {},
   "outputs": [],
   "source": []
  },
  {
   "cell_type": "code",
   "execution_count": null,
   "metadata": {},
   "outputs": [],
   "source": []
  }
 ],
 "metadata": {
  "kernelspec": {
   "display_name": "Python 3",
   "language": "python",
   "name": "python3"
  },
  "language_info": {
   "codemirror_mode": {
    "name": "ipython",
    "version": 3
   },
   "file_extension": ".py",
   "mimetype": "text/x-python",
   "name": "python",
   "nbconvert_exporter": "python",
   "pygments_lexer": "ipython3",
   "version": "3.8.5"
  }
 },
 "nbformat": 4,
 "nbformat_minor": 2
}
